{
 "cells": [
  {
   "cell_type": "markdown",
   "id": "b4abb2c1",
   "metadata": {},
   "source": [
    "# Extracting the data"
   ]
  },
  {
   "cell_type": "code",
   "execution_count": 28,
   "id": "5f6c1955",
   "metadata": {},
   "outputs": [],
   "source": [
    "import numpy as np\n",
    "from sklearn import preprocessing\n",
    "import tensorflow as tf\n",
    "\n",
    "raw_csv_data = np.loadtxt('Audiobooks_data.csv', delimiter = ',')\n",
    "\n",
    "unscaled_inputs_all = raw_csv_data[:,1:-1]\n",
    "targets_all = raw_csv_data[:,-1]"
   ]
  },
  {
   "cell_type": "markdown",
   "id": "25d8e4d1",
   "metadata": {},
   "source": [
    "# Shuffle before balancing the dataset"
   ]
  },
  {
   "cell_type": "code",
   "execution_count": 7,
   "id": "40b154dc",
   "metadata": {},
   "outputs": [],
   "source": [
    "# When the data was collected it was actually arranged by date\n",
    "# Shuffle the indices of the data, so the data is not arranged in any way when we feed it.\n",
    "# Since we will be batching, we want the data to be as randomly spread out as possible\n",
    "shuffled_indices = np.arange(unscaled_inputs_all.shape[0])\n",
    "np.random.shuffle(shuffled_indices)\n",
    "\n",
    "# Use the shuffled indices to shuffle the inputs and targets.\n",
    "unscaled_inputs_all = unscaled_inputs_all[shuffled_indices]\n",
    "targets_all = targets_all[shuffled_indices]"
   ]
  },
  {
   "cell_type": "markdown",
   "id": "2e2a1de1",
   "metadata": {},
   "source": [
    "# Balance the Dataset\n"
   ]
  },
  {
   "cell_type": "code",
   "execution_count": 8,
   "id": "115a9f3c",
   "metadata": {},
   "outputs": [],
   "source": [
    "num_one_targets = int(np.sum(targets_all))\n",
    "zero_targets_counter = 0\n",
    "indices_to_remove = []\n",
    "\n",
    "for i in range(targets_all.shape[0]):\n",
    "    if targets_all[i] == 0:\n",
    "        zero_targets_counter += 1\n",
    "        if zero_targets_counter > num_one_targets:\n",
    "            indices_to_remove.append(i)\n",
    "            \n",
    "unscaled_inputs_equal_priors = np.delete(unscaled_inputs_all, indices_to_remove, axis = 0)\n",
    "targets_equal_priors = np.delete (targets_all, indices_to_remove, axis=0)"
   ]
  },
  {
   "cell_type": "markdown",
   "id": "aff3dfe9",
   "metadata": {},
   "source": [
    "# Standardize the inputs"
   ]
  },
  {
   "cell_type": "code",
   "execution_count": 9,
   "id": "2df61b29",
   "metadata": {},
   "outputs": [],
   "source": [
    "scaled_inputs = preprocessing.scale(unscaled_inputs_equal_priors)"
   ]
  },
  {
   "cell_type": "markdown",
   "id": "6d6ec438",
   "metadata": {},
   "source": [
    "# Shuffle the data"
   ]
  },
  {
   "cell_type": "code",
   "execution_count": 10,
   "id": "f52ef125",
   "metadata": {},
   "outputs": [],
   "source": [
    "shuffled_indices = np.arange(scaled_inputs.shape[0])\n",
    "np.random.shuffle(shuffled_indices)\n",
    "\n",
    "shuffled_inputs = scaled_inputs[shuffled_indices]\n",
    "shuffled_targets = targets_equal_priors[shuffled_indices]"
   ]
  },
  {
   "cell_type": "markdown",
   "id": "9b3c4941",
   "metadata": {},
   "source": [
    "# Split the dataset into train, validation and test"
   ]
  },
  {
   "cell_type": "code",
   "execution_count": 11,
   "id": "fb2d7454",
   "metadata": {},
   "outputs": [
    {
     "name": "stdout",
     "output_type": "stream",
     "text": [
      "1776.0 3579 0.49622799664710815\n",
      "239.0 447 0.5346756152125279\n",
      "222.0 448 0.4955357142857143\n"
     ]
    }
   ],
   "source": [
    "samples_count = shuffled_inputs.shape[0]\n",
    "\n",
    "train_samples_count = int(0.8*samples_count)\n",
    "validation_samples_count = int(0.1*samples_count)\n",
    "test_samples_count = samples_count - train_samples_count - validation_samples_count\n",
    "\n",
    "train_inputs = shuffled_inputs[:train_samples_count]\n",
    "train_targets = shuffled_targets[:train_samples_count]\n",
    "\n",
    "validation_inputs = shuffled_inputs[train_samples_count:train_samples_count+validation_samples_count]\n",
    "validation_targets = shuffled_targets[train_samples_count:train_samples_count+validation_samples_count]\n",
    "\n",
    "test_inputs = shuffled_inputs[train_samples_count+validation_samples_count:]\n",
    "test_targets = shuffled_targets[train_samples_count+validation_samples_count:]\n",
    "\n",
    "print(np.sum(train_targets), train_samples_count, np.sum(train_targets) / train_samples_count)\n",
    "print(np.sum(validation_targets), validation_samples_count, np.sum(validation_targets) / validation_samples_count)\n",
    "print(np.sum(test_targets), test_samples_count, np.sum(test_targets) / test_samples_count)"
   ]
  },
  {
   "cell_type": "markdown",
   "id": "2e7c8eb5",
   "metadata": {},
   "source": [
    "# Save the three datasets in *.npz"
   ]
  },
  {
   "cell_type": "code",
   "execution_count": 12,
   "id": "019abe1c",
   "metadata": {},
   "outputs": [],
   "source": [
    "np.savez('Audiobooks_data_train', inputs=train_inputs, targets=train_targets)\n",
    "np.savez('Audiobooks_data_validation', inputs=validation_inputs, targets=validation_targets)\n",
    "np.savez('Audiobooks_data_test', inputs=test_inputs, targets=test_targets)"
   ]
  },
  {
   "cell_type": "markdown",
   "id": "0f3f7cf8",
   "metadata": {},
   "source": [
    "### Data"
   ]
  },
  {
   "cell_type": "markdown",
   "id": "2250a842",
   "metadata": {},
   "source": [
    "Loading the dataset, saving into variables"
   ]
  },
  {
   "cell_type": "code",
   "execution_count": 14,
   "id": "f0d62cdd",
   "metadata": {},
   "outputs": [],
   "source": [
    "# Loading Train, Validation and Test inputs and targets respectively, saving them into temporary variable 'npz'\n",
    "# Then assigning into input and target variables. Moreover, we are changing inputs datatypes to float and targets to integer.\n",
    "npz = np.load('Audiobooks_data_train.npz')\n",
    "\n",
    "train_inputs, train_targets = npz['inputs'].astype(float), npz['targets'].astype(int)\n",
    "\n",
    "npz = np.load('Audiobooks_data_validation.npz')\n",
    "\n",
    "validation_inputs, validation_targets = npz['inputs'].astype(float), npz['targets'].astype(int)\n",
    "\n",
    "npz = np.load('Audiobooks_data_test.npz')\n",
    "\n",
    "test_inputs, test_targets = npz['inputs'].astype(float), npz['targets'].astype(int)"
   ]
  },
  {
   "cell_type": "markdown",
   "id": "7faffd44",
   "metadata": {},
   "source": [
    "### Model\n",
    "Outline, optimizers, loss, early stopping and training"
   ]
  },
  {
   "cell_type": "code",
   "execution_count": 19,
   "id": "658419e0",
   "metadata": {},
   "outputs": [
    {
     "name": "stdout",
     "output_type": "stream",
     "text": [
      "Epoch 1/100\n",
      "36/36 - 1s - loss: 0.6377 - accuracy: 0.6530 - val_loss: 0.5732 - val_accuracy: 0.7025 - 555ms/epoch - 15ms/step\n",
      "Epoch 2/100\n",
      "36/36 - 0s - loss: 0.5227 - accuracy: 0.7491 - val_loss: 0.4946 - val_accuracy: 0.7248 - 68ms/epoch - 2ms/step\n",
      "Epoch 3/100\n",
      "36/36 - 0s - loss: 0.4577 - accuracy: 0.7664 - val_loss: 0.4596 - val_accuracy: 0.7450 - 71ms/epoch - 2ms/step\n",
      "Epoch 4/100\n",
      "36/36 - 0s - loss: 0.4245 - accuracy: 0.7818 - val_loss: 0.4444 - val_accuracy: 0.7450 - 69ms/epoch - 2ms/step\n",
      "Epoch 5/100\n",
      "36/36 - 0s - loss: 0.4045 - accuracy: 0.7958 - val_loss: 0.4334 - val_accuracy: 0.7494 - 68ms/epoch - 2ms/step\n",
      "Epoch 6/100\n",
      "36/36 - 0s - loss: 0.3924 - accuracy: 0.8008 - val_loss: 0.4309 - val_accuracy: 0.7450 - 67ms/epoch - 2ms/step\n",
      "Epoch 7/100\n",
      "36/36 - 0s - loss: 0.3837 - accuracy: 0.7980 - val_loss: 0.4160 - val_accuracy: 0.7629 - 71ms/epoch - 2ms/step\n",
      "Epoch 8/100\n",
      "36/36 - 0s - loss: 0.3778 - accuracy: 0.8019 - val_loss: 0.4226 - val_accuracy: 0.7651 - 69ms/epoch - 2ms/step\n",
      "Epoch 9/100\n",
      "36/36 - 0s - loss: 0.3732 - accuracy: 0.8083 - val_loss: 0.4212 - val_accuracy: 0.7651 - 72ms/epoch - 2ms/step\n"
     ]
    },
    {
     "data": {
      "text/plain": [
       "<keras.callbacks.History at 0x28a377c6c20>"
      ]
     },
     "execution_count": 19,
     "metadata": {},
     "output_type": "execute_result"
    }
   ],
   "source": [
    "# We've got 10 different predictors, therefore:\n",
    "input_size = 10\n",
    "# We've got 2 outputs: Whether customer will convert or not, thus output size is equal to 2\n",
    "output_size = 2\n",
    "# Hidden layer size, we can set to 50\n",
    "hidden_layer_size = 50\n",
    "\n",
    "# Now we build our model similarly to MNIST dataset, with a small difference: there's no need to flatten the tensor\n",
    "# As we have already done the preprocessing here.\n",
    "# Similarly to MNIST, we will build 2 hidden layers and use the same activation functions. Softmax will work splendidly here.\n",
    "model = tf.keras.Sequential([\n",
    "    tf.keras.layers.Dense(hidden_layer_size, activation='relu'), #1st hidden layer\n",
    "    tf.keras.layers.Dense(hidden_layer_size, activation='relu'), #2nd hidden layer\n",
    "    tf.keras.layers.Dense(output_size, activation='softmax') #Output layer\n",
    "])\n",
    "\n",
    "# Now, we shall choose the otpimizer and loss function: \n",
    "## We define optimizer\n",
    "## Then loss function\n",
    "## and the metric we are interested in obtaining\n",
    "\n",
    "model.compile(optimizer='adam', loss='sparse_categorical_crossentropy', metrics=['accuracy'])\n",
    "\n",
    "# Training: time to train our model\n",
    "\n",
    "## Let's set the batch size\n",
    "batch_size = 100\n",
    "\n",
    "## Set number of epochs\n",
    "max_epochs = 100\n",
    "\n",
    "## Setting the early stopping mechanism so our model won't overfit\n",
    "### patience=2 indicates that our callback will let 2 validation accuracy increases to slide, before stopping the training.\n",
    "early_stopping = tf.keras.callbacks.EarlyStopping(patience=2)\n",
    "\n",
    "# Fit the model\n",
    "## We should note that train, validation and test data are not iterable here\n",
    "model.fit(train_inputs, # train inputs\n",
    "          train_targets, # train targets\n",
    "          batch_size=batch_size, # batch size\n",
    "          epochs=max_epochs, # n of epochs we will train for, assuming early stopping willn't occur\n",
    "          callbacks=[early_stopping], # implementing the early stopping mechanism\n",
    "          validation_data=(validation_inputs, validation_targets), # validation data\n",
    "          verbose=2) # Making sure we get enough information about the training process after each epoch. "
   ]
  },
  {
   "cell_type": "markdown",
   "id": "48580615",
   "metadata": {},
   "source": [
    "#### It seems that after 9-12 epochs, callback is stopping the training, pure sign of overfitting"
   ]
  },
  {
   "cell_type": "markdown",
   "id": "b753976c",
   "metadata": {},
   "source": [
    "### Testing the model"
   ]
  },
  {
   "cell_type": "markdown",
   "id": "06c3a7cd",
   "metadata": {},
   "source": [
    "This is the final phase of our project: We will TEST our model on the data it has NEVER seen before. The results we get indicates how well our model will perform in real life."
   ]
  },
  {
   "cell_type": "code",
   "execution_count": 20,
   "id": "fe8e4465",
   "metadata": {},
   "outputs": [
    {
     "name": "stdout",
     "output_type": "stream",
     "text": [
      "14/14 [==============================] - 0s 1ms/step - loss: 0.4114 - accuracy: 0.7723\n"
     ]
    }
   ],
   "source": [
    "test_loss, test_accuracy = model.evaluate(test_inputs, test_targets)"
   ]
  },
  {
   "cell_type": "code",
   "execution_count": 26,
   "id": "56e5f722",
   "metadata": {},
   "outputs": [
    {
     "name": "stdout",
     "output_type": "stream",
     "text": [
      "Test loss:0.41, Test Accuracy:77.23%\n"
     ]
    }
   ],
   "source": [
    "# Printing Out the Final Results.\n",
    "print(f'Test loss:{test_loss:.2}, Test Accuracy:{(test_accuracy*100):.4}%')"
   ]
  }
 ],
 "metadata": {
  "kernelspec": {
   "display_name": "Python 3 (ipykernel)",
   "language": "python",
   "name": "python3"
  },
  "language_info": {
   "codemirror_mode": {
    "name": "ipython",
    "version": 3
   },
   "file_extension": ".py",
   "mimetype": "text/x-python",
   "name": "python",
   "nbconvert_exporter": "python",
   "pygments_lexer": "ipython3",
   "version": "3.10.9"
  }
 },
 "nbformat": 4,
 "nbformat_minor": 5
}
